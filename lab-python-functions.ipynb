{
 "cells": [
  {
   "cell_type": "markdown",
   "id": "25d7736c-ba17-4aff-b6bb-66eba20fbf4e",
   "metadata": {},
   "source": [
    "# Lab | Functions"
   ]
  },
  {
   "cell_type": "markdown",
   "id": "0c581062-8967-4d93-b06e-62833222f930",
   "metadata": {
    "tags": []
   },
   "source": [
    "## Exercise: Managing Customer Orders with Functions\n",
    "\n",
    "In the previous exercise, you improved the code for managing customer orders by using loops and flow control. Now, let's take it a step further and refactor the code by introducing functions.\n",
    "\n",
    "Follow the steps below to complete the exercise:\n",
    "\n",
    "1. Define a function named `initialize_inventory` that takes `products` as a parameter. Inside the function, implement the code for initializing the inventory dictionary using a loop and user input.\n",
    "\n",
    "2. Define a function named `get_customer_orders` that takes no parameters. Inside the function, implement the code for prompting the user to enter the product names using a loop. The function should return the `customer_orders` set.\n",
    "\n",
    "3. Define a function named `update_inventory` that takes `customer_orders` and `inventory` as parameters. Inside the function, implement the code for updating the inventory dictionary based on the customer orders.\n",
    "\n",
    "4. Define a function named `calculate_order_statistics` that takes `customer_orders` and `products` as parameters. Inside the function, implement the code for calculating the order statistics (total products ordered, and percentage of unique products ordered). The function should return these values.\n",
    "\n",
    "5. Define a function named `print_order_statistics` that takes `order_statistics` as a parameter. Inside the function, implement the code for printing the order statistics.\n",
    "\n",
    "6. Define a function named `print_updated_inventory` that takes `inventory` as a parameter. Inside the function, implement the code for printing the updated inventory.\n",
    "\n",
    "7. Call the functions in the appropriate sequence to execute the program and manage customer orders.\n",
    "\n",
    "Hints for functions:\n",
    "\n",
    "- Consider the input parameters required for each function and their return values.\n",
    "- Utilize function parameters and return values to transfer data between functions.\n",
    "- Test your functions individually to ensure they work correctly.\n",
    "\n",
    "\n"
   ]
  },
  {
   "cell_type": "code",
   "execution_count": 22,
   "id": "2332d7e0",
   "metadata": {},
   "outputs": [
    {
     "name": "stdout",
     "output_type": "stream",
     "text": [
      "{'t-shirt': 10, 'mug': 5, 'hat': 8, 'book': 2, 'keychain': 20}\n"
     ]
    }
   ],
   "source": [
    "# define a function for initializing the inventory dictionary using a loop and user input\n",
    "\n",
    "def initialize_inventory(products):\n",
    "    \n",
    "    # Create an empty dictionary\n",
    "    inventory = {}\n",
    "\n",
    "    # Prompt the user to enter the quantity of each product avaiable in the inventory\n",
    "    for i in products:\n",
    "        Quantity_of_each_product = int(input(f\"Enter the quantity of {i} in the inventory: \"))\n",
    "        inventory[i] = Quantity_of_each_product\n",
    "    \n",
    "    return inventory\n",
    "\n",
    "products = [\"t-shirt\", \"mug\", \"hat\", \"book\", \"keychain\"]\n",
    "inventory = initialize_inventory(products)\n",
    "print(inventory)"
   ]
  },
  {
   "cell_type": "code",
   "execution_count": 23,
   "id": "4f93d94b",
   "metadata": {},
   "outputs": [
    {
     "name": "stdout",
     "output_type": "stream",
     "text": [
      "Thank you for your order!\n",
      "{'mug', 'book', 'keychain'}\n"
     ]
    }
   ],
   "source": [
    "# define a function for prompting the user to enter the product names using a loop\n",
    "\n",
    "def get_customer_orders():\n",
    "    \n",
    "    customer_orders = set()\n",
    "\n",
    "    continue_loop = True\n",
    "\n",
    "    while continue_loop:\n",
    "        user_input = input(\"Enter a product that you want to order: \")\n",
    "        customer_orders.add(user_input)\n",
    "    \n",
    "        answer = input(\"Do you want to order something else?\").lower().strip()\n",
    "    \n",
    "        if answer == 'no':\n",
    "            continue_loop = False\n",
    "            print(\"Thank you for your order!\")\n",
    "\n",
    "    return customer_orders\n",
    "\n",
    "customer_orders = get_customer_orders()\n",
    "print(customer_orders) "
   ]
  },
  {
   "cell_type": "code",
   "execution_count": 24,
   "id": "bfd4ebe2",
   "metadata": {},
   "outputs": [
    {
     "name": "stdout",
     "output_type": "stream",
     "text": [
      "{'t-shirt': 10, 'mug': 4, 'hat': 8, 'book': 1, 'keychain': 19}\n"
     ]
    }
   ],
   "source": [
    "# define a function for updating the inventory dictionary based on the customer orders\n",
    "\n",
    "def update_inventory(customer_orders, inventory):\n",
    "\n",
    "    # Substract 1 from the quantity of each product that was ordered \n",
    "\n",
    "    for i in customer_orders:\n",
    "        if i in inventory:\n",
    "            inventory[i] -= 1\n",
    "    \n",
    "    return inventory \n",
    "\n",
    "inventory = update_inventory(customer_orders, inventory)\n",
    "print(inventory)"
   ]
  },
  {
   "cell_type": "code",
   "execution_count": 27,
   "id": "7605a904",
   "metadata": {},
   "outputs": [
    {
     "name": "stdout",
     "output_type": "stream",
     "text": [
      "(24, 57.14)\n"
     ]
    }
   ],
   "source": [
    "# define a function for calculating the order statistics\n",
    "\n",
    "def calculate_order_statistics(customer_orders, products):\n",
    "    \"\"\"\n",
    "    Order statistics consist of:\n",
    "    total products ordered and percentage of unique products ordered\n",
    "    \"\"\"\n",
    "\n",
    "    products_ordered = []\n",
    "\n",
    "    for i in customer_orders:\n",
    "        if i in inventory:\n",
    "            value = inventory.get(i)\n",
    "            products_ordered.append(value)\n",
    "\n",
    "    Total_products_ordered = sum(products_ordered)\n",
    "\n",
    "    # Calculate percentage of products ordered\n",
    "    Total_available_products = sum(inventory.values())\n",
    "    \n",
    "    Percentage_of_products_ordered = round(Total_products_ordered/Total_available_products*100,2)\n",
    "\n",
    "    # Store these statistics in a tuple\n",
    "    order_statistics = (Total_products_ordered, Percentage_of_products_ordered)\n",
    "\n",
    "    return order_statistics\n",
    "\n",
    "order_statistics = calculate_order_statistics(customer_orders, products) \n",
    "print(order_statistics)"
   ]
  },
  {
   "cell_type": "code",
   "execution_count": 28,
   "id": "7af48c1a",
   "metadata": {},
   "outputs": [
    {
     "name": "stdout",
     "output_type": "stream",
     "text": [
      "(24, 57.14)\n"
     ]
    }
   ],
   "source": [
    "# define a function for printing the order statistics\n",
    "\n",
    "def print_order_statistics(order_statistics):\n",
    "    \n",
    "    print(order_statistics)\n",
    "\n",
    "order_statistics = print_order_statistics(order_statistics)"
   ]
  },
  {
   "cell_type": "code",
   "execution_count": 29,
   "id": "4e033125",
   "metadata": {},
   "outputs": [
    {
     "name": "stdout",
     "output_type": "stream",
     "text": [
      "{'t-shirt': 10, 'mug': 4, 'hat': 8, 'book': 1, 'keychain': 19}\n"
     ]
    }
   ],
   "source": [
    "# define a function for printing the updated inventory\n",
    "\n",
    "def print_updated_inventory(inventory):\n",
    "\n",
    "    print(inventory)\n",
    "\n",
    "inventory = print_updated_inventory(inventory)"
   ]
  },
  {
   "cell_type": "code",
   "execution_count": null,
   "id": "00862755",
   "metadata": {},
   "outputs": [],
   "source": []
  }
 ],
 "metadata": {
  "kernelspec": {
   "display_name": "Python 3 (ipykernel)",
   "language": "python",
   "name": "python3"
  },
  "language_info": {
   "codemirror_mode": {
    "name": "ipython",
    "version": 3
   },
   "file_extension": ".py",
   "mimetype": "text/x-python",
   "name": "python",
   "nbconvert_exporter": "python",
   "pygments_lexer": "ipython3",
   "version": "3.11.7"
  }
 },
 "nbformat": 4,
 "nbformat_minor": 5
}
